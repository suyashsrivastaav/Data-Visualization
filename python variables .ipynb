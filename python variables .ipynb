{
 "cells": [
  {
   "cell_type": "code",
   "execution_count": null,
   "id": "277cb60a",
   "metadata": {},
   "outputs": [],
   "source": [
    "a=14"
   ]
  },
  {
   "cell_type": "code",
   "execution_count": 2,
   "id": "4c7d1f65",
   "metadata": {},
   "outputs": [
    {
     "ename": "NameError",
     "evalue": "name 'a' is not defined",
     "output_type": "error",
     "traceback": [
      "\u001b[1;31m---------------------------------------------------------------------------\u001b[0m",
      "\u001b[1;31mNameError\u001b[0m                                 Traceback (most recent call last)",
      "Cell \u001b[1;32mIn[2], line 1\u001b[0m\n\u001b[1;32m----> 1\u001b[0m \u001b[38;5;28mprint\u001b[39m(a)\n",
      "\u001b[1;31mNameError\u001b[0m: name 'a' is not defined"
     ]
    }
   ],
   "source": [
    "print(a)"
   ]
  },
  {
   "cell_type": "code",
   "execution_count": null,
   "id": "cd611d1f",
   "metadata": {},
   "outputs": [],
   "source": [
    "# but if write like this it will be valid"
   ]
  },
  {
   "cell_type": "code",
   "execution_count": 2,
   "id": "6133bf89",
   "metadata": {},
   "outputs": [
    {
     "name": "stdout",
     "output_type": "stream",
     "text": [
      "12\n"
     ]
    }
   ],
   "source": [
    "a=12\n",
    "print(a)"
   ]
  },
  {
   "cell_type": "code",
   "execution_count": 3,
   "id": "841115cf",
   "metadata": {},
   "outputs": [
    {
     "ename": "SyntaxError",
     "evalue": "leading zeros in decimal integer literals are not permitted; use an 0o prefix for octal integers (3311987656.py, line 1)",
     "output_type": "error",
     "traceback": [
      "\u001b[1;36m  Cell \u001b[1;32mIn[3], line 1\u001b[1;36m\u001b[0m\n\u001b[1;33m    adfh=099009\u001b[0m\n\u001b[1;37m         ^\u001b[0m\n\u001b[1;31mSyntaxError\u001b[0m\u001b[1;31m:\u001b[0m leading zeros in decimal integer literals are not permitted; use an 0o prefix for octal integers\n"
     ]
    }
   ],
   "source": [
    " adfh=099009            (#INVALID)                \n",
    "print(adfh)"
   ]
  },
  {
   "cell_type": "code",
   "execution_count": 5,
   "id": "492a44a8",
   "metadata": {},
   "outputs": [
    {
     "ename": "SyntaxError",
     "evalue": "invalid syntax (2073258327.py, line 1)",
     "output_type": "error",
     "traceback": [
      "\u001b[1;36m  Cell \u001b[1;32mIn[5], line 1\u001b[1;36m\u001b[0m\n\u001b[1;33m    kj=88.90.89909\u001b[0m\n\u001b[1;37m            ^\u001b[0m\n\u001b[1;31mSyntaxError\u001b[0m\u001b[1;31m:\u001b[0m invalid syntax\n"
     ]
    }
   ],
   "source": [
    "kj=88.90.89909\n",
    "print(kj)"
   ]
  },
  {
   "cell_type": "code",
   "execution_count": 8,
   "id": "ae964eb3",
   "metadata": {},
   "outputs": [
    {
     "name": "stdout",
     "output_type": "stream",
     "text": [
      "3 4\n"
     ]
    }
   ],
   "source": [
    "a=3\n",
    "b=4\n",
    "print(a,b)"
   ]
  },
  {
   "cell_type": "code",
   "execution_count": 9,
   "id": "f41d2fb0",
   "metadata": {},
   "outputs": [
    {
     "name": "stdout",
     "output_type": "stream",
     "text": [
      "3\n"
     ]
    }
   ],
   "source": [
    "a=3\n",
    "b=4\n",
    "print(a)"
   ]
  },
  {
   "cell_type": "code",
   "execution_count": 7,
   "id": "4e0366f6",
   "metadata": {},
   "outputs": [
    {
     "name": "stdout",
     "output_type": "stream",
     "text": [
      "0\n"
     ]
    }
   ],
   "source": [
    "a=3\n",
    "a=0\n",
    "print(a)"
   ]
  },
  {
   "cell_type": "code",
   "execution_count": 11,
   "id": "086dad0f",
   "metadata": {},
   "outputs": [
    {
     "ename": "NameError",
     "evalue": "name 'hi' is not defined",
     "output_type": "error",
     "traceback": [
      "\u001b[1;31m---------------------------------------------------------------------------\u001b[0m",
      "\u001b[1;31mNameError\u001b[0m                                 Traceback (most recent call last)",
      "Cell \u001b[1;32mIn[11], line 1\u001b[0m\n\u001b[1;32m----> 1\u001b[0m c\u001b[38;5;241m=\u001b[39mhi\n\u001b[0;32m      2\u001b[0m \u001b[38;5;28mprint\u001b[39m(c)\n",
      "\u001b[1;31mNameError\u001b[0m: name 'hi' is not defined"
     ]
    }
   ],
   "source": [
    "c=hi\n",
    "print(c)"
   ]
  },
  {
   "cell_type": "code",
   "execution_count": 12,
   "id": "ae6ff9e5",
   "metadata": {},
   "outputs": [
    {
     "name": "stdout",
     "output_type": "stream",
     "text": [
      "hi\n"
     ]
    }
   ],
   "source": [
    "c=\"hi\"\n",
    "print(c)"
   ]
  },
  {
   "cell_type": "code",
   "execution_count": 13,
   "id": "6dc8135e",
   "metadata": {},
   "outputs": [
    {
     "name": "stdout",
     "output_type": "stream",
     "text": [
      "sdmm\n"
     ]
    }
   ],
   "source": [
    "c=\"hello\"                           # here interpertor works\n",
    "print(\"sdmm\")\n"
   ]
  },
  {
   "cell_type": "code",
   "execution_count": 15,
   "id": "a2bbcae8",
   "metadata": {},
   "outputs": [
    {
     "name": "stdout",
     "output_type": "stream",
     "text": [
      "sdfwe\n"
     ]
    }
   ],
   "source": [
    "print(\"sdfwe\")"
   ]
  },
  {
   "cell_type": "code",
   "execution_count": 16,
   "id": "965fb136",
   "metadata": {},
   "outputs": [
    {
     "name": "stdout",
     "output_type": "stream",
     "text": [
      "50\n"
     ]
    }
   ],
   "source": [
    "a_b=50\n",
    "print(a_b)"
   ]
  },
  {
   "cell_type": "code",
   "execution_count": 17,
   "id": "23bd7c98",
   "metadata": {},
   "outputs": [
    {
     "name": "stdout",
     "output_type": "stream",
     "text": [
      "a_b\n"
     ]
    }
   ],
   "source": [
    "a_b=50\n",
    "print(\"a_b\")"
   ]
  },
  {
   "cell_type": "code",
   "execution_count": null,
   "id": "1ac3a34b",
   "metadata": {},
   "outputs": [],
   "source": [
    "# Multiple assignment to variable."
   ]
  },
  {
   "cell_type": "code",
   "execution_count": 1,
   "id": "db67f2b9",
   "metadata": {},
   "outputs": [
    {
     "name": "stdout",
     "output_type": "stream",
     "text": [
      "50 50 50\n"
     ]
    }
   ],
   "source": [
    "x=y=z=50\n",
    "print(x,y,z)"
   ]
  },
  {
   "cell_type": "code",
   "execution_count": 2,
   "id": "262d325f",
   "metadata": {},
   "outputs": [
    {
     "name": "stdout",
     "output_type": "stream",
     "text": [
      "10 20 30\n"
     ]
    }
   ],
   "source": [
    "a,b,c=10,20,30\n",
    "print(a,b,c)"
   ]
  },
  {
   "cell_type": "code",
   "execution_count": null,
   "id": "063955b2",
   "metadata": {},
   "outputs": [],
   "source": [
    "# Variable names\n",
    "Camel case :- myVariableName\n",
    "pascal case :-MyVariableName\n",
    "snake case :- my_variable_name"
   ]
  },
  {
   "cell_type": "code",
   "execution_count": null,
   "id": "7ef83733",
   "metadata": {},
   "outputs": [],
   "source": [
    "Variables:- .local variable    # for explaination refer geeky shows\n",
    "            .global variable"
   ]
  },
  {
   "cell_type": "code",
   "execution_count": null,
   "id": "64a681b9",
   "metadata": {},
   "outputs": [],
   "source": [
    "Local variable:-The variable which are declared inside a function called as local variable.\n",
    "local variable scope is limited only to that function where it is created.\n",
    "It means local variable value is available only in that function not outside of that function."
   ]
  },
  {
   "cell_type": "code",
   "execution_count": null,
   "id": "81dc9f85",
   "metadata": {},
   "outputs": [],
   "source": [
    "#eg.     Python def keyword is used to define a function, it is placed before a function name that is provided by the        \n",
    "#            user to create a user-defined function. \n",
    "#   here def- keyword hai ,add- function,y-parameter,:-means that from here our function body starts.\n",
    "          def add(y):  "
   ]
  },
  {
   "cell_type": "code",
   "execution_count": 40,
   "id": "9a2bcd3f",
   "metadata": {},
   "outputs": [
    {
     "name": "stdout",
     "output_type": "stream",
     "text": [
      "10\n"
     ]
    }
   ],
   "source": [
    "def show():\n",
    "    x=10\n",
    "    print(x) \n",
    "show()"
   ]
  },
  {
   "cell_type": "code",
   "execution_count": 42,
   "id": "aa53c40d",
   "metadata": {},
   "outputs": [
    {
     "name": "stdout",
     "output_type": "stream",
     "text": [
      "10\n"
     ]
    },
    {
     "ename": "NameError",
     "evalue": "name 'x' is not defined",
     "output_type": "error",
     "traceback": [
      "\u001b[1;31m---------------------------------------------------------------------------\u001b[0m",
      "\u001b[1;31mNameError\u001b[0m                                 Traceback (most recent call last)",
      "Cell \u001b[1;32mIn[42], line 5\u001b[0m\n\u001b[0;32m      3\u001b[0m     \u001b[38;5;28mprint\u001b[39m(x) \n\u001b[0;32m      4\u001b[0m show()\n\u001b[1;32m----> 5\u001b[0m \u001b[38;5;28mprint\u001b[39m(x)\n",
      "\u001b[1;31mNameError\u001b[0m: name 'x' is not defined"
     ]
    }
   ],
   "source": [
    "def show():\n",
    "    x=10\n",
    "    print(x) \n",
    "show()\n",
    "print(x)              # here it will give error bcz x has no value outside the function."
   ]
  },
  {
   "cell_type": "code",
   "execution_count": 16,
   "id": "28e8a26c",
   "metadata": {},
   "outputs": [
    {
     "name": "stdout",
     "output_type": "stream",
     "text": [
      "10\n",
      "30\n"
     ]
    }
   ],
   "source": [
    "def bad(y):\n",
    "    x=10\n",
    "    print(x)\n",
    "    print(x+y)\n",
    "bad(20)"
   ]
  },
  {
   "cell_type": "code",
   "execution_count": null,
   "id": "9fb21d84",
   "metadata": {},
   "outputs": [],
   "source": [
    "Global variable:-When a variable is declared above a function,it becomes global variable.\n",
    "    These variables are available to all the function which are written after it.\n",
    "    The scope of global variable is the entire program body written below it."
   ]
  },
  {
   "cell_type": "code",
   "execution_count": 10,
   "id": "84a7e8a8",
   "metadata": {},
   "outputs": [
    {
     "name": "stdout",
     "output_type": "stream",
     "text": [
      "10\n",
      "Global variable:- 50\n"
     ]
    }
   ],
   "source": [
    " # here we use a=50 global variable in and out of the function\n",
    "a=50\n",
    "def show():\n",
    "    a=10\n",
    "    print(a)\n",
    "show()\n",
    "print(\"Global variable:-\", a)   "
   ]
  },
  {
   "cell_type": "code",
   "execution_count": 20,
   "id": "ccac23c1",
   "metadata": {},
   "outputs": [
    {
     "name": "stdout",
     "output_type": "stream",
     "text": [
      "the boss 1\n"
     ]
    }
   ],
   "source": [
    "def mycity():\n",
    "    i=0\n",
    "    a=i+1\n",
    "    print(\"the boss\",a)\n",
    "mycity()"
   ]
  },
  {
   "cell_type": "code",
   "execution_count": 21,
   "id": "fd1792ac",
   "metadata": {},
   "outputs": [
    {
     "ename": "UnboundLocalError",
     "evalue": "cannot access local variable 'i' where it is not associated with a value",
     "output_type": "error",
     "traceback": [
      "\u001b[1;31m---------------------------------------------------------------------------\u001b[0m",
      "\u001b[1;31mUnboundLocalError\u001b[0m                         Traceback (most recent call last)",
      "Cell \u001b[1;32mIn[21], line 5\u001b[0m\n\u001b[0;32m      3\u001b[0m     i\u001b[38;5;241m=\u001b[39mi\u001b[38;5;241m+\u001b[39m\u001b[38;5;241m1\u001b[39m\n\u001b[0;32m      4\u001b[0m     \u001b[38;5;28mprint\u001b[39m(\u001b[38;5;124m\"\u001b[39m\u001b[38;5;124mTHE BOSS:-\u001b[39m\u001b[38;5;124m\"\u001b[39m,i)\n\u001b[1;32m----> 5\u001b[0m mycity()\n",
      "Cell \u001b[1;32mIn[21], line 3\u001b[0m, in \u001b[0;36mmycity\u001b[1;34m()\u001b[0m\n\u001b[0;32m      2\u001b[0m \u001b[38;5;28;01mdef\u001b[39;00m \u001b[38;5;21mmycity\u001b[39m():\n\u001b[1;32m----> 3\u001b[0m     i\u001b[38;5;241m=\u001b[39mi\u001b[38;5;241m+\u001b[39m\u001b[38;5;241m1\u001b[39m\n\u001b[0;32m      4\u001b[0m     \u001b[38;5;28mprint\u001b[39m(\u001b[38;5;124m\"\u001b[39m\u001b[38;5;124mTHE BOSS:-\u001b[39m\u001b[38;5;124m\"\u001b[39m,i)\n",
      "\u001b[1;31mUnboundLocalError\u001b[0m: cannot access local variable 'i' where it is not associated with a value"
     ]
    }
   ],
   "source": [
    "i=0                                  \n",
    "def mycity():\n",
    "    i=i+1\n",
    "    print(\"THE BOSS:-\",i)\n",
    "mycity()"
   ]
  },
  {
   "cell_type": "code",
   "execution_count": null,
   "id": "76b856a7",
   "metadata": {},
   "outputs": [],
   "source": [
    "when global and local variables are same then it take local variable value in the function not global variable"
   ]
  },
  {
   "cell_type": "code",
   "execution_count": 39,
   "id": "75a6407c",
   "metadata": {},
   "outputs": [
    {
     "name": "stdout",
     "output_type": "stream",
     "text": [
      "THE BOSS:- 1\n"
     ]
    }
   ],
   "source": [
    "i=0                                   # now after assigning value to th e local variable i the it works absolutely fine.\n",
    "def mycity():\n",
    "    i=0\n",
    "    i=i+1\n",
    "    print(\"THE BOSS:-\",i)\n",
    "mycity()"
   ]
  },
  {
   "cell_type": "code",
   "execution_count": null,
   "id": "ee5ff6f3",
   "metadata": {},
   "outputs": [],
   "source": []
  },
  {
   "cell_type": "code",
   "execution_count": null,
   "id": "fcee144d",
   "metadata": {},
   "outputs": [],
   "source": []
  },
  {
   "cell_type": "code",
   "execution_count": null,
   "id": "83d0f612",
   "metadata": {},
   "outputs": [],
   "source": []
  },
  {
   "cell_type": "code",
   "execution_count": null,
   "id": "2e2af272",
   "metadata": {},
   "outputs": [],
   "source": []
  }
 ],
 "metadata": {
  "kernelspec": {
   "display_name": "Python 3 (ipykernel)",
   "language": "python",
   "name": "python3"
  },
  "language_info": {
   "codemirror_mode": {
    "name": "ipython",
    "version": 3
   },
   "file_extension": ".py",
   "mimetype": "text/x-python",
   "name": "python",
   "nbconvert_exporter": "python",
   "pygments_lexer": "ipython3",
   "version": "3.11.3"
  }
 },
 "nbformat": 4,
 "nbformat_minor": 5
}
